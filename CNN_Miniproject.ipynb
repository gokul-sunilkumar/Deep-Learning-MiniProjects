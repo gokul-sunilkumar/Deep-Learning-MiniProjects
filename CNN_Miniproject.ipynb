{
  "nbformat": 4,
  "nbformat_minor": 0,
  "metadata": {
    "colab": {
      "name": "DL_Miniproject_CNN",
      "provenance": [],
      "collapsed_sections": []
    },
    "kernelspec": {
      "name": "python3",
      "display_name": "Python 3"
    },
    "language_info": {
      "name": "python"
    },
    "accelerator": "GPU"
  },
  "cells": [
    {
      "cell_type": "code",
      "metadata": {
        "id": "Q2HfRAw3ipqn"
      },
      "source": [
        "import numpy as np\n",
        "import keras\n",
        "import seaborn as sns\n",
        "from matplotlib import pyplot as plt\n",
        "from scipy.io import loadmat\n",
        "from sklearn.model_selection import train_test_split\n",
        "from sklearn.preprocessing import LabelBinarizer\n",
        "from sklearn.metrics import confusion_matrix\n",
        "from keras.preprocessing.image import ImageDataGenerator\n",
        "%matplotlib inline\n",
        "np.random.seed(20)"
      ],
      "execution_count": null,
      "outputs": []
    },
    {
      "cell_type": "code",
      "metadata": {
        "id": "jruwEgdtnHGL"
      },
      "source": [
        "train_raw = loadmat('/content/drive/MyDrive/DL_Project/train_32x32.mat')\n",
        "test_raw = loadmat('/content/drive/MyDrive/DL_Project/test_32x32.mat')"
      ],
      "execution_count": null,
      "outputs": []
    },
    {
      "cell_type": "code",
      "metadata": {
        "id": "0rFxhMk3nX-l"
      },
      "source": [
        "train_images = np.array(train_raw['X'])\n",
        "test_images = np.array(test_raw['X'])\n",
        "\n",
        "train_labels = train_raw['y']\n",
        "test_labels = test_raw['y']"
      ],
      "execution_count": null,
      "outputs": []
    },
    {
      "cell_type": "code",
      "metadata": {
        "colab": {
          "base_uri": "https://localhost:8080/"
        },
        "id": "1mj_LS14ng50",
        "outputId": "3b45339a-455a-42c7-f9c5-35002f21a8b6"
      },
      "source": [
        "print(train_images.shape)\n",
        "print(test_images.shape)"
      ],
      "execution_count": null,
      "outputs": [
        {
          "output_type": "stream",
          "text": [
            "(32, 32, 3, 73257)\n",
            "(32, 32, 3, 26032)\n"
          ],
          "name": "stdout"
        }
      ]
    },
    {
      "cell_type": "code",
      "metadata": {
        "colab": {
          "base_uri": "https://localhost:8080/"
        },
        "id": "9u7ASHlFnj5H",
        "outputId": "401e9c25-bf00-4c62-d60e-10e8f15228a7"
      },
      "source": [
        "train_images = np.moveaxis(train_images, -1, 0)\n",
        "test_images = np.moveaxis(test_images, -1, 0)\n",
        "\n",
        "print(train_images.shape)\n",
        "print(test_images.shape)"
      ],
      "execution_count": null,
      "outputs": [
        {
          "output_type": "stream",
          "text": [
            "(73257, 32, 32, 3)\n",
            "(26032, 32, 32, 3)\n"
          ],
          "name": "stdout"
        }
      ]
    },
    {
      "cell_type": "code",
      "metadata": {
        "colab": {
          "base_uri": "https://localhost:8080/",
          "height": 283
        },
        "id": "XIbnyooQnox7",
        "outputId": "ef46e90a-cd9a-48b6-862f-66a6ca799ad4"
      },
      "source": [
        "plt.imshow(train_images[12500])\n",
        "plt.show()\n",
        "\n",
        "print('Label: ', train_labels[12500])"
      ],
      "execution_count": null,
      "outputs": [
        {
          "output_type": "display_data",
          "data": {
            "image/png": "[encoded data removed]",
            "text/plain": [
              "<Figure size 432x288 with 1 Axes>"
            ]
          },
          "metadata": {
            "tags": [],
            "needs_background": "light"
          }
        },
        {
          "output_type": "stream",
          "text": [
            "Label:  [3]\n"
          ],
          "name": "stdout"
        }
      ]
    },
    {
      "cell_type": "code",
      "metadata": {
        "id": "PUpWPCQynuNi"
      },
      "source": [
        "train_images = train_images.astype('float64')\n",
        "test_images = test_images.astype('float64')\n",
        "\n",
        "train_labels = train_labels.astype('int64')\n",
        "test_labels = test_labels.astype('int64')"
      ],
      "execution_count": null,
      "outputs": []
    },
    {
      "cell_type": "code",
      "metadata": {
        "colab": {
          "base_uri": "https://localhost:8080/"
        },
        "id": "e31RaDzdn9Ey",
        "outputId": "c89d1d45-9c44-4687-c629-92f7ba57f17e"
      },
      "source": [
        "print('Min: {}, Max: {}'.format(train_images.min(), train_images.max()))\n",
        "\n",
        "train_images /= 255.0\n",
        "test_images /= 255.0"
      ],
      "execution_count": null,
      "outputs": [
        {
          "output_type": "stream",
          "text": [
            "Min: 0.0, Max: 255.0\n"
          ],
          "name": "stdout"
        }
      ]
    },
    {
      "cell_type": "code",
      "metadata": {
        "id": "p0023zbrn_34"
      },
      "source": [
        "lb = LabelBinarizer()\n",
        "train_labels = lb.fit_transform(train_labels)\n",
        "test_labels = lb.fit_transform(test_labels)"
      ],
      "execution_count": null,
      "outputs": []
    },
    {
      "cell_type": "code",
      "metadata": {
        "id": "iUDQK9PZoEIx"
      },
      "source": [
        "X_train, X_val, y_train, y_val = train_test_split(train_images, train_labels, test_size=0.15, random_state=22)"
      ],
      "execution_count": null,
      "outputs": []
    },
    {
      "cell_type": "code",
      "metadata": {
        "colab": {
          "base_uri": "https://localhost:8080/"
        },
        "id": "a4ldx9rooJAP",
        "outputId": "6931a02a-49be-44c7-86b7-958d9d17661c"
      },
      "source": [
        "y_val.shape"
      ],
      "execution_count": null,
      "outputs": [
        {
          "output_type": "execute_result",
          "data": {
            "text/plain": [
              "(10989, 10)"
            ]
          },
          "metadata": {
            "tags": []
          },
          "execution_count": 13
        }
      ]
    },
    {
      "cell_type": "code",
      "metadata": {
        "id": "r5mn5XX2oMQL"
      },
      "source": [
        "datagen = ImageDataGenerator(rotation_range=8,\n",
        "                             zoom_range=[0.95, 1.05],\n",
        "                             height_shift_range=0.10,\n",
        "                             shear_range=0.15)"
      ],
      "execution_count": null,
      "outputs": []
    },
    {
      "cell_type": "code",
      "metadata": {
        "id": "2nMRl3nJoPPF"
      },
      "source": [
        "aux_model = keras.Sequential([\n",
        "    keras.layers.Conv2D(32, (3, 3), padding='same', \n",
        "                           activation='relu',\n",
        "                           input_shape=(32, 32, 3)),\n",
        "    keras.layers.BatchNormalization(),\n",
        "    keras.layers.Conv2D(32, (3, 3), padding='same', \n",
        "                        activation='relu'),\n",
        "    keras.layers.MaxPooling2D((2, 2)),\n",
        "    keras.layers.Dropout(0.3),\n",
        "    \n",
        "    keras.layers.Conv2D(64, (3, 3), padding='same', \n",
        "                           activation='relu'),\n",
        "    keras.layers.BatchNormalization(),\n",
        "    keras.layers.Conv2D(64, (3, 3), padding='same',\n",
        "                        activation='relu'),\n",
        "    keras.layers.MaxPooling2D((2, 2)),\n",
        "    keras.layers.Dropout(0.3),\n",
        "    \n",
        "    keras.layers.Conv2D(128, (3, 3), padding='same', \n",
        "                           activation='relu'),\n",
        "    keras.layers.BatchNormalization(),\n",
        "    keras.layers.Conv2D(128, (3, 3), padding='same',\n",
        "                        activation='relu'),\n",
        "    keras.layers.MaxPooling2D((2, 2)),\n",
        "    keras.layers.Dropout(0.3),\n",
        "    \n",
        "    keras.layers.Flatten(),\n",
        "    keras.layers.Dense(128, activation='relu'),\n",
        "    keras.layers.Dropout(0.4),    \n",
        "    keras.layers.Dense(10,  activation='softmax')\n",
        "])\n",
        "\n",
        "\n",
        "lr_schedule = keras.callbacks.LearningRateScheduler(\n",
        "              lambda epoch: 1e-4 * 10**(epoch / 10))\n",
        "optimizer = keras.optimizers.Adam(lr=1e-4, amsgrad=True)\n",
        "aux_model.compile(optimizer=optimizer,\n",
        "                  loss='categorical_crossentropy',\n",
        "                 metrics=['accuracy'])\n",
        "\n"
      ],
      "execution_count": null,
      "outputs": []
    },
    {
      "cell_type": "code",
      "metadata": {
        "colab": {
          "base_uri": "https://localhost:8080/"
        },
        "id": "_OY7qMWUoW90",
        "outputId": "6787a738-8c66-42d1-dcfc-c9716ec1f15a"
      },
      "source": [
        "history = aux_model.fit_generator(datagen.flow(X_train, y_train, batch_size=128),\n",
        "                              epochs=30, validation_data=(X_val, y_val),\n",
        "                              callbacks=[lr_schedule])"
      ],
      "execution_count": null,
      "outputs": [
        {
          "output_type": "stream",
          "text": [
            "/usr/local/lib/python3.7/dist-packages/tensorflow/python/keras/engine/training.py:1844: UserWarning: `Model.fit_generator` is deprecated and will be removed in a future version. Please use `Model.fit`, which supports generators.\n",
            "  warnings.warn('`Model.fit_generator` is deprecated and '\n"
          ],
          "name": "stderr"
        },
        {
          "output_type": "stream",
          "text": [
            "Epoch 1/30\n",
            "487/487 [==============================] - 65s 66ms/step - loss: 2.4914 - accuracy: 0.1379 - val_loss: 2.2157 - val_accuracy: 0.1949\n",
            "Epoch 2/30\n",
            "487/487 [==============================] - 32s 65ms/step - loss: 2.2149 - accuracy: 0.1774 - val_loss: 1.9584 - val_accuracy: 0.3141\n",
            "Epoch 3/30\n",
            "487/487 [==============================] - 31s 65ms/step - loss: 1.8274 - accuracy: 0.3612 - val_loss: 0.7820 - val_accuracy: 0.7609\n",
            "Epoch 4/30\n",
            "487/487 [==============================] - 31s 64ms/step - loss: 1.0899 - accuracy: 0.6412 - val_loss: 0.4662 - val_accuracy: 0.8601\n",
            "Epoch 5/30\n",
            "487/487 [==============================] - 31s 65ms/step - loss: 0.7981 - accuracy: 0.7491 - val_loss: 0.3771 - val_accuracy: 0.8852\n",
            "Epoch 6/30\n",
            "487/487 [==============================] - 31s 64ms/step - loss: 0.6390 - accuracy: 0.8019 - val_loss: 0.3828 - val_accuracy: 0.8830\n",
            "Epoch 7/30\n",
            "487/487 [==============================] - 31s 64ms/step - loss: 0.5492 - accuracy: 0.8348 - val_loss: 0.3093 - val_accuracy: 0.9089\n",
            "Epoch 8/30\n",
            "487/487 [==============================] - 32s 65ms/step - loss: 0.4763 - accuracy: 0.8558 - val_loss: 0.2600 - val_accuracy: 0.9257\n",
            "Epoch 9/30\n",
            "487/487 [==============================] - 32s 65ms/step - loss: 0.4268 - accuracy: 0.8751 - val_loss: 0.2818 - val_accuracy: 0.9220\n",
            "Epoch 10/30\n",
            "487/487 [==============================] - 31s 64ms/step - loss: 0.3928 - accuracy: 0.8835 - val_loss: 0.3330 - val_accuracy: 0.9040\n",
            "Epoch 11/30\n",
            "487/487 [==============================] - 32s 65ms/step - loss: 0.3820 - accuracy: 0.8889 - val_loss: 0.2620 - val_accuracy: 0.9272\n",
            "Epoch 12/30\n",
            "487/487 [==============================] - 31s 64ms/step - loss: 0.3748 - accuracy: 0.8910 - val_loss: 0.2641 - val_accuracy: 0.9256\n",
            "Epoch 13/30\n",
            "487/487 [==============================] - 32s 65ms/step - loss: 0.3492 - accuracy: 0.8983 - val_loss: 0.2308 - val_accuracy: 0.9358\n",
            "Epoch 14/30\n",
            "487/487 [==============================] - 31s 64ms/step - loss: 0.3458 - accuracy: 0.9023 - val_loss: 0.2505 - val_accuracy: 0.9299\n",
            "Epoch 15/30\n",
            "487/487 [==============================] - 31s 65ms/step - loss: 0.3430 - accuracy: 0.9030 - val_loss: 0.2504 - val_accuracy: 0.9358\n",
            "Epoch 16/30\n",
            "487/487 [==============================] - 31s 64ms/step - loss: 0.3441 - accuracy: 0.9027 - val_loss: 0.2879 - val_accuracy: 0.9280\n",
            "Epoch 17/30\n",
            "487/487 [==============================] - 31s 64ms/step - loss: 0.3430 - accuracy: 0.9014 - val_loss: 0.2468 - val_accuracy: 0.9358\n",
            "Epoch 18/30\n",
            "487/487 [==============================] - 32s 65ms/step - loss: 0.3572 - accuracy: 0.8994 - val_loss: 0.2636 - val_accuracy: 0.9319\n",
            "Epoch 19/30\n",
            "487/487 [==============================] - 31s 64ms/step - loss: 0.3679 - accuracy: 0.8962 - val_loss: 0.3876 - val_accuracy: 0.8872\n",
            "Epoch 20/30\n",
            "487/487 [==============================] - 32s 65ms/step - loss: 0.3768 - accuracy: 0.8955 - val_loss: 0.2979 - val_accuracy: 0.9186\n",
            "Epoch 21/30\n",
            "487/487 [==============================] - 32s 65ms/step - loss: 0.3844 - accuracy: 0.8935 - val_loss: 0.2453 - val_accuracy: 0.9372\n",
            "Epoch 22/30\n",
            "487/487 [==============================] - 31s 64ms/step - loss: 0.3986 - accuracy: 0.8891 - val_loss: 0.3427 - val_accuracy: 0.9067\n",
            "Epoch 23/30\n",
            "487/487 [==============================] - 32s 65ms/step - loss: 0.4515 - accuracy: 0.8729 - val_loss: 0.3721 - val_accuracy: 0.8934\n",
            "Epoch 24/30\n",
            "487/487 [==============================] - 32s 65ms/step - loss: 0.5453 - accuracy: 0.8467 - val_loss: 0.5268 - val_accuracy: 0.8547\n",
            "Epoch 25/30\n",
            "487/487 [==============================] - 31s 65ms/step - loss: 0.9393 - accuracy: 0.7384 - val_loss: 1.2142 - val_accuracy: 0.6212\n",
            "Epoch 26/30\n",
            "487/487 [==============================] - 32s 65ms/step - loss: 1.7954 - accuracy: 0.4063 - val_loss: 2.2346 - val_accuracy: 0.1949\n",
            "Epoch 27/30\n",
            "487/487 [==============================] - 31s 65ms/step - loss: 2.2394 - accuracy: 0.1866 - val_loss: 2.2343 - val_accuracy: 0.1949\n",
            "Epoch 28/30\n",
            "487/487 [==============================] - 32s 65ms/step - loss: 2.2387 - accuracy: 0.1907 - val_loss: 2.2370 - val_accuracy: 0.1949\n",
            "Epoch 29/30\n",
            "487/487 [==============================] - 31s 64ms/step - loss: 2.2407 - accuracy: 0.1883 - val_loss: 2.2334 - val_accuracy: 0.1949\n",
            "Epoch 30/30\n",
            "487/487 [==============================] - 32s 65ms/step - loss: 2.2402 - accuracy: 0.1867 - val_loss: 2.2331 - val_accuracy: 0.1949\n"
          ],
          "name": "stdout"
        }
      ]
    },
    {
      "cell_type": "code",
      "metadata": {
        "colab": {
          "base_uri": "https://localhost:8080/",
          "height": 287
        },
        "id": "7MorBmfpoecI",
        "outputId": "c61a6858-c6c3-4e26-fd0e-140fc72bfed5"
      },
      "source": [
        "plt.semilogx(history.history['lr'], history.history['loss'])\n",
        "plt.axis([1e-4, 1e-1, 0, 4])\n",
        "plt.xlabel('Learning Rate')\n",
        "plt.ylabel('Training Loss')\n",
        "plt.show()"
      ],
      "execution_count": null,
      "outputs": [
        {
          "output_type": "display_data",
          "data": {
            "image/png": "[encoded data removed]",
            "text/plain": [
              "<Figure size 432x288 with 1 Axes>"
            ]
          },
          "metadata": {
            "tags": [],
            "needs_background": "light"
          }
        }
      ]
    },
    {
      "cell_type": "code",
      "metadata": {
        "id": "U96r2mCZrQoJ"
      },
      "source": [
        "model = keras.Sequential([\n",
        "    keras.layers.Conv2D(32, (3, 3), padding='same', \n",
        "                           activation='relu',\n",
        "                           input_shape=(32, 32, 3)),\n",
        "    keras.layers.BatchNormalization(),\n",
        "    keras.layers.Conv2D(32, (3, 3), padding='same', \n",
        "                        activation='relu'),\n",
        "    keras.layers.MaxPooling2D((2, 2)),\n",
        "    keras.layers.Dropout(0.3),\n",
        "    \n",
        "    keras.layers.Conv2D(64, (3, 3), padding='same', \n",
        "                           activation='relu'),\n",
        "    keras.layers.BatchNormalization(),\n",
        "    keras.layers.Conv2D(64, (3, 3), padding='same',\n",
        "                        activation='relu'),\n",
        "    keras.layers.MaxPooling2D((2, 2)),\n",
        "    keras.layers.Dropout(0.3),\n",
        "    \n",
        "    keras.layers.Conv2D(128, (3, 3), padding='same', \n",
        "                           activation='relu'),\n",
        "    keras.layers.BatchNormalization(),\n",
        "    keras.layers.Conv2D(128, (3, 3), padding='same',\n",
        "                        activation='relu'),\n",
        "    keras.layers.MaxPooling2D((2, 2)),\n",
        "    keras.layers.Dropout(0.3),\n",
        "    \n",
        "    keras.layers.Flatten(),\n",
        "    keras.layers.Dense(128, activation='relu'),\n",
        "    keras.layers.Dropout(0.4),    \n",
        "    keras.layers.Dense(10,  activation='softmax')\n",
        "])\n",
        "\n",
        "early_stopping = keras.callbacks.EarlyStopping(patience=8)\n",
        "optimizer = keras.optimizers.Adam(lr=1e-3, amsgrad=True)\n",
        "model_checkpoint = keras.callbacks.ModelCheckpoint(\n",
        "                   'cnn.h5', \n",
        "                   save_best_only=True)\n",
        "model.compile(optimizer=optimizer,\n",
        "              loss='categorical_crossentropy',\n",
        "              metrics=['accuracy'])"
      ],
      "execution_count": null,
      "outputs": []
    },
    {
      "cell_type": "code",
      "metadata": {
        "colab": {
          "base_uri": "https://localhost:8080/"
        },
        "id": "lmqf-VrorQ9b",
        "outputId": "b4fd7da5-e405-4061-d349-e7300221defe"
      },
      "source": [
        "model.summary()"
      ],
      "execution_count": null,
      "outputs": [
        {
          "output_type": "stream",
          "text": [
            "Model: \"sequential\"\n",
            "_________________________________________________________________\n",
            "Layer (type)                 Output Shape              Param #   \n",
            "=================================================================\n",
            "conv2d (Conv2D)              (None, 32, 32, 32)        896       \n",
            "_________________________________________________________________\n",
            "batch_normalization (BatchNo (None, 32, 32, 32)        128       \n",
            "_________________________________________________________________\n",
            "conv2d_1 (Conv2D)            (None, 32, 32, 32)        9248      \n",
            "_________________________________________________________________\n",
            "max_pooling2d (MaxPooling2D) (None, 16, 16, 32)        0         \n",
            "_________________________________________________________________\n",
            "dropout (Dropout)            (None, 16, 16, 32)        0         \n",
            "_________________________________________________________________\n",
            "conv2d_2 (Conv2D)            (None, 16, 16, 64)        18496     \n",
            "_________________________________________________________________\n",
            "batch_normalization_1 (Batch (None, 16, 16, 64)        256       \n",
            "_________________________________________________________________\n",
            "conv2d_3 (Conv2D)            (None, 16, 16, 64)        36928     \n",
            "_________________________________________________________________\n",
            "max_pooling2d_1 (MaxPooling2 (None, 8, 8, 64)          0         \n",
            "_________________________________________________________________\n",
            "dropout_1 (Dropout)          (None, 8, 8, 64)          0         \n",
            "_________________________________________________________________\n",
            "conv2d_4 (Conv2D)            (None, 8, 8, 128)         73856     \n",
            "_________________________________________________________________\n",
            "batch_normalization_2 (Batch (None, 8, 8, 128)         512       \n",
            "_________________________________________________________________\n",
            "conv2d_5 (Conv2D)            (None, 8, 8, 128)         147584    \n",
            "_________________________________________________________________\n",
            "max_pooling2d_2 (MaxPooling2 (None, 4, 4, 128)         0         \n",
            "_________________________________________________________________\n",
            "dropout_2 (Dropout)          (None, 4, 4, 128)         0         \n",
            "_________________________________________________________________\n",
            "flatten (Flatten)            (None, 2048)              0         \n",
            "_________________________________________________________________\n",
            "dense (Dense)                (None, 128)               262272    \n",
            "_________________________________________________________________\n",
            "dropout_3 (Dropout)          (None, 128)               0         \n",
            "_________________________________________________________________\n",
            "dense_1 (Dense)              (None, 10)                1290      \n",
            "=================================================================\n",
            "Total params: 551,466\n",
            "Trainable params: 551,018\n",
            "Non-trainable params: 448\n",
            "_________________________________________________________________\n"
          ],
          "name": "stdout"
        }
      ]
    },
    {
      "cell_type": "code",
      "metadata": {
        "colab": {
          "base_uri": "https://localhost:8080/"
        },
        "id": "4JHiieeVrRQ7",
        "outputId": "27227c44-cdea-4f47-953a-91fe092bab8d"
      },
      "source": [
        "history = model.fit_generator(datagen.flow(X_train, y_train, batch_size=128),\n",
        "                              epochs=70, validation_data=(X_val, y_val),\n",
        "                              callbacks=[early_stopping, model_checkpoint])"
      ],
      "execution_count": null,
      "outputs": [
        {
          "output_type": "stream",
          "text": [
            "/usr/local/lib/python3.7/dist-packages/tensorflow/python/keras/engine/training.py:1844: UserWarning: `Model.fit_generator` is deprecated and will be removed in a future version. Please use `Model.fit`, which supports generators.\n",
            "  warnings.warn('`Model.fit_generator` is deprecated and '\n"
          ],
          "name": "stderr"
        },
        {
          "output_type": "stream",
          "text": [
            "Epoch 1/70\n",
            "487/487 [==============================] - 33s 65ms/step - loss: 2.2482 - accuracy: 0.2040 - val_loss: 1.3011 - val_accuracy: 0.5978\n",
            "Epoch 2/70\n",
            "487/487 [==============================] - 31s 64ms/step - loss: 1.4070 - accuracy: 0.4935 - val_loss: 0.6633 - val_accuracy: 0.8188\n",
            "Epoch 3/70\n",
            "487/487 [==============================] - 32s 65ms/step - loss: 1.0346 - accuracy: 0.6464 - val_loss: 0.3834 - val_accuracy: 0.8867\n",
            "Epoch 4/70\n",
            "487/487 [==============================] - 32s 65ms/step - loss: 0.5449 - accuracy: 0.8401 - val_loss: 0.3083 - val_accuracy: 0.9115\n",
            "Epoch 5/70\n",
            "487/487 [==============================] - 32s 65ms/step - loss: 0.4223 - accuracy: 0.8803 - val_loss: 0.2811 - val_accuracy: 0.9167\n",
            "Epoch 6/70\n",
            "487/487 [==============================] - 32s 65ms/step - loss: 0.3681 - accuracy: 0.8953 - val_loss: 0.2536 - val_accuracy: 0.9297\n",
            "Epoch 7/70\n",
            "487/487 [==============================] - 32s 65ms/step - loss: 0.3409 - accuracy: 0.9042 - val_loss: 0.2376 - val_accuracy: 0.9387\n",
            "Epoch 8/70\n",
            "487/487 [==============================] - 32s 65ms/step - loss: 0.3159 - accuracy: 0.9100 - val_loss: 0.2215 - val_accuracy: 0.9407\n",
            "Epoch 9/70\n",
            "487/487 [==============================] - 31s 64ms/step - loss: 0.2961 - accuracy: 0.9151 - val_loss: 0.2086 - val_accuracy: 0.9449\n",
            "Epoch 10/70\n",
            "487/487 [==============================] - 31s 65ms/step - loss: 0.2804 - accuracy: 0.9191 - val_loss: 0.2229 - val_accuracy: 0.9393\n",
            "Epoch 11/70\n",
            "487/487 [==============================] - 31s 64ms/step - loss: 0.2731 - accuracy: 0.9245 - val_loss: 0.2318 - val_accuracy: 0.9381\n",
            "Epoch 12/70\n",
            "487/487 [==============================] - 31s 64ms/step - loss: 0.2617 - accuracy: 0.9247 - val_loss: 0.2194 - val_accuracy: 0.9408\n",
            "Epoch 13/70\n",
            "487/487 [==============================] - 31s 64ms/step - loss: 0.2515 - accuracy: 0.9281 - val_loss: 0.2019 - val_accuracy: 0.9478\n",
            "Epoch 14/70\n",
            "487/487 [==============================] - 31s 64ms/step - loss: 0.2365 - accuracy: 0.9317 - val_loss: 0.1928 - val_accuracy: 0.9502\n",
            "Epoch 15/70\n",
            "487/487 [==============================] - 31s 64ms/step - loss: 0.2322 - accuracy: 0.9337 - val_loss: 0.2225 - val_accuracy: 0.9408\n",
            "Epoch 16/70\n",
            "487/487 [==============================] - 32s 65ms/step - loss: 0.2242 - accuracy: 0.9363 - val_loss: 0.1974 - val_accuracy: 0.9477\n",
            "Epoch 17/70\n",
            "487/487 [==============================] - 32s 65ms/step - loss: 0.2204 - accuracy: 0.9371 - val_loss: 0.1909 - val_accuracy: 0.9507\n",
            "Epoch 18/70\n",
            "487/487 [==============================] - 32s 65ms/step - loss: 0.2071 - accuracy: 0.9400 - val_loss: 0.1869 - val_accuracy: 0.9563\n",
            "Epoch 19/70\n",
            "487/487 [==============================] - 31s 64ms/step - loss: 0.2133 - accuracy: 0.9390 - val_loss: 0.1827 - val_accuracy: 0.9530\n",
            "Epoch 20/70\n",
            "487/487 [==============================] - 32s 65ms/step - loss: 0.2009 - accuracy: 0.9416 - val_loss: 0.1894 - val_accuracy: 0.9535\n",
            "Epoch 21/70\n",
            "487/487 [==============================] - 31s 65ms/step - loss: 0.2035 - accuracy: 0.9411 - val_loss: 0.1965 - val_accuracy: 0.9509\n",
            "Epoch 22/70\n",
            "487/487 [==============================] - 32s 65ms/step - loss: 0.2028 - accuracy: 0.9402 - val_loss: 0.1804 - val_accuracy: 0.9543\n",
            "Epoch 23/70\n",
            "487/487 [==============================] - 32s 65ms/step - loss: 0.1927 - accuracy: 0.9438 - val_loss: 0.2053 - val_accuracy: 0.9494\n",
            "Epoch 24/70\n",
            "487/487 [==============================] - 31s 64ms/step - loss: 0.1993 - accuracy: 0.9420 - val_loss: 0.1925 - val_accuracy: 0.9535\n",
            "Epoch 25/70\n",
            "487/487 [==============================] - 32s 65ms/step - loss: 0.1932 - accuracy: 0.9451 - val_loss: 0.1870 - val_accuracy: 0.9522\n",
            "Epoch 26/70\n",
            "487/487 [==============================] - 32s 65ms/step - loss: 0.1929 - accuracy: 0.9458 - val_loss: 0.1960 - val_accuracy: 0.9497\n",
            "Epoch 27/70\n",
            "487/487 [==============================] - 32s 65ms/step - loss: 0.1853 - accuracy: 0.9474 - val_loss: 0.2085 - val_accuracy: 0.9498\n",
            "Epoch 28/70\n",
            "487/487 [==============================] - 32s 65ms/step - loss: 0.1804 - accuracy: 0.9469 - val_loss: 0.1871 - val_accuracy: 0.9547\n",
            "Epoch 29/70\n",
            "487/487 [==============================] - 31s 65ms/step - loss: 0.1745 - accuracy: 0.9485 - val_loss: 0.1990 - val_accuracy: 0.9540\n",
            "Epoch 30/70\n",
            "487/487 [==============================] - 31s 65ms/step - loss: 0.1704 - accuracy: 0.9501 - val_loss: 0.1960 - val_accuracy: 0.9537\n"
          ],
          "name": "stdout"
        }
      ]
    },
    {
      "cell_type": "code",
      "metadata": {
        "id": "HKxrpY_OrReG"
      },
      "source": [
        "train_acc = history.history['accuracy']\n",
        "val_acc = history.history['val_accuracy']\n",
        "\n",
        "train_loss = history.history['loss']\n",
        "val_loss = history.history['val_loss']"
      ],
      "execution_count": null,
      "outputs": []
    },
    {
      "cell_type": "code",
      "metadata": {
        "colab": {
          "base_uri": "https://localhost:8080/",
          "height": 607
        },
        "id": "6in7Zah5rR8M",
        "outputId": "0ff356ac-d5f9-4c1b-e109-5e6016ad3113"
      },
      "source": [
        "plt.figure(figsize=(20, 10))\n",
        "\n",
        "plt.subplot(1, 2, 1)\n",
        "plt.plot(train_acc, label='Training Accuracy')\n",
        "plt.plot(val_acc, label='Validation Accuracy')\n",
        "plt.legend()\n",
        "plt.title('Epochs vs. Training and Validation Accuracy')\n",
        "    \n",
        "plt.subplot(1, 2, 2)\n",
        "plt.plot(train_loss, label='Training Loss')\n",
        "plt.plot(val_loss, label='Validation Loss')\n",
        "plt.legend()\n",
        "plt.title('Epochs vs. Training and Validation Loss')\n",
        "\n",
        "plt.show()"
      ],
      "execution_count": null,
      "outputs": [
        {
          "output_type": "display_data",
          "data": {
            "image/png": "[encoded data removed]",
            "text/plain": [
              "<Figure size 1440x720 with 2 Axes>"
            ]
          },
          "metadata": {
            "tags": [],
            "needs_background": "light"
          }
        }
      ]
    },
    {
      "cell_type": "code",
      "metadata": {
        "colab": {
          "base_uri": "https://localhost:8080/"
        },
        "id": "pzvp_3XSrwGs",
        "outputId": "af223c25-db3c-41ca-d7ae-e904bab6e48f"
      },
      "source": [
        "test_loss, test_acc = model.evaluate(x=test_images, y=test_labels, verbose=0)\n",
        "print('Test accuracy is: {:0.4f} \\nTest loss is: {:0.4f}'.format(test_acc, test_loss))"
      ],
      "execution_count": null,
      "outputs": [
        {
          "output_type": "stream",
          "text": [
            "Test accuracy is: 0.9588 \n",
            "Test loss is: 0.1741\n"
          ],
          "name": "stdout"
        }
      ]
    },
    {
      "cell_type": "code",
      "metadata": {
        "id": "0acAna4Erwbx"
      },
      "source": [
        ""
      ],
      "execution_count": null,
      "outputs": []
    },
    {
      "cell_type": "code",
      "metadata": {
        "id": "CmPXJsYcrwea"
      },
      "source": [
        ""
      ],
      "execution_count": null,
      "outputs": []
    }
  ]
}
